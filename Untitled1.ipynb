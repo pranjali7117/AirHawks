{
  "nbformat": 4,
  "nbformat_minor": 0,
  "metadata": {
    "colab": {
      "provenance": [],
      "authorship_tag": "ABX9TyP5LZsBEpn72FD74xOv/ZpU",
      "include_colab_link": true
    },
    "kernelspec": {
      "name": "python3",
      "display_name": "Python 3"
    },
    "language_info": {
      "name": "python"
    }
  },
  "cells": [
    {
      "cell_type": "markdown",
      "metadata": {
        "id": "view-in-github",
        "colab_type": "text"
      },
      "source": [
        "<a href=\"https://colab.research.google.com/github/pranjali7117/AirHawks/blob/main/Untitled1.ipynb\" target=\"_parent\"><img src=\"https://colab.research.google.com/assets/colab-badge.svg\" alt=\"Open In Colab\"/></a>"
      ]
    },
    {
      "cell_type": "code",
      "execution_count": null,
      "metadata": {
        "colab": {
          "base_uri": "https://localhost:8080/"
        },
        "id": "rWbNuN7ilzEI",
        "outputId": "64c874ee-4ec1-48c7-81ed-58340daa9dc3"
      },
      "outputs": [
        {
          "output_type": "stream",
          "name": "stdout",
          "text": [
            "enter number 15\n",
            "enter number 29\n",
            "enter number 37\n",
            "9\n"
          ]
        }
      ],
      "source": [
        "def maxsum(x,y,z):\n",
        "  if(x>y and x>z):\n",
        "    return x\n",
        "  elif(y>x and y>z):\n",
        "    return y\n",
        "  else:\n",
        "    return z\n",
        "\n",
        "a =int(input(\"enter number 1\"))\n",
        "b =int(input(\"enter number 2\"))\n",
        "c =int(input(\"enter number 3\"))\n",
        "print(maxsum(a,b,c))\n",
        "\n"
      ]
    },
    {
      "cell_type": "code",
      "source": [
        "#fibonacci\n",
        "def fibonacci(n):\n",
        "  a=0\n",
        "  b=1\n",
        "  while(a<=n):\n",
        "    print(a)\n",
        "    a=b\n",
        "    b=a+b\n",
        "\n",
        "n=int(input(\"Enter number\"))\n",
        "print(fibonacci(n))\n"
      ],
      "metadata": {
        "id": "4tU35eEzpB9f"
      },
      "execution_count": null,
      "outputs": []
    },
    {
      "cell_type": "code",
      "source": [
        "# : def fibonacci(n):\n",
        "#   a=0\n",
        "#   b=1\n",
        "#   while(a<n):\n",
        "#     print(a)\n",
        "#     a=b\n",
        "#     b=a+b\n",
        "# n=int(input(\"Enter number\"))\n",
        "# print(fibonacci(n))\n",
        "# debug\n",
        "\n",
        "def fibonacci(n):\n",
        "  a=0\n",
        "  b=1\n",
        "\n",
        "  while(a<n):\n",
        "    print(a)\n",
        "    a,b=b,a+b\n",
        "n=int(input(\"Enter number\"))\n",
        "print(fibonacci(n))\n"
      ],
      "metadata": {
        "colab": {
          "base_uri": "https://localhost:8080/"
        },
        "id": "ihNN5WQF4Dcr",
        "outputId": "28af0a8f-8127-4d80-aff8-092f66874cbe"
      },
      "execution_count": null,
      "outputs": [
        {
          "output_type": "stream",
          "name": "stdout",
          "text": [
            "Enter number5\n",
            "0\n",
            "1\n",
            "1\n",
            "2\n",
            "3\n",
            "None\n"
          ]
        }
      ]
    },
    {
      "cell_type": "code",
      "source": [
        "#simple calculator\n",
        "\n"
      ],
      "metadata": {
        "id": "9JT8EfH3qmNf"
      },
      "execution_count": null,
      "outputs": []
    },
    {
      "cell_type": "code",
      "source": [
        "#year is leap or not\n",
        "def"
      ],
      "metadata": {
        "id": "7V7i7YkCqmmA"
      },
      "execution_count": null,
      "outputs": []
    },
    {
      "cell_type": "code",
      "source": [
        "# prompt: python program to check leap year or not\n",
        "\n",
        "def is_leap(year):\n",
        "  \"\"\"\n",
        "  Check if a year is a leap year.\n",
        "\n",
        "  Args:\n",
        "    year: The year to check.\n",
        "\n",
        "  Returns:\n",
        "    True if the year is a leap year, False otherwise.\n",
        "  \"\"\"\n",
        "\n",
        "  if year % 4 == 0:\n",
        "    if year % 100 == 0:\n",
        "      if year % 400 == 0:\n",
        "        return True\n",
        "      else:\n",
        "        return False\n",
        "    else:\n",
        "      return True\n",
        "  else:\n",
        "    return False\n",
        "\n",
        "year = int(input(\"Enter a year: \"))\n",
        "\n",
        "if is_leap(year):\n",
        "  print(\"{} is a leap year.\".format(year))\n",
        "else:\n",
        "  print(\"{} is not a leap year.\".format(year))\n"
      ],
      "metadata": {
        "id": "JKATv8pOqmo3"
      },
      "execution_count": null,
      "outputs": []
    },
    {
      "cell_type": "code",
      "source": [],
      "metadata": {
        "id": "XsAfbmXLqmrZ"
      },
      "execution_count": null,
      "outputs": []
    },
    {
      "cell_type": "code",
      "source": [],
      "metadata": {
        "id": "sCe6GApHqmuI"
      },
      "execution_count": null,
      "outputs": []
    },
    {
      "cell_type": "code",
      "source": [],
      "metadata": {
        "id": "oX37EW6fqmxh"
      },
      "execution_count": null,
      "outputs": []
    }
  ]
}